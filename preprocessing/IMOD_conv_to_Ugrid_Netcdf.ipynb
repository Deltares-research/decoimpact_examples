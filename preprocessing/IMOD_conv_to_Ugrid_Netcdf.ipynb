{
 "cells": [
  {
   "cell_type": "markdown",
   "metadata": {},
   "source": [
    "Convert a wflow NetCDF output result to the Ugrid NetCDF format that can be used by D-Eco Impact"
   ]
  },
  {
   "cell_type": "code",
   "execution_count": 1,
   "metadata": {},
   "outputs": [],
   "source": [
    "#load required libraries and prepare logging\n",
    "import os\n",
    "import xugrid as xu\n",
    "import xarray as xr\n",
    "import rioxarray\n",
    "import xarray\n",
    "import logging\n",
    "#import imod\n",
    "\n",
    "logger = logging.getLogger(__name__)\n",
    "\n",
    "import sys  \n",
    "sys.path.insert(1, '../library')\n",
    "from DEcoImpact_conv_func import DEIModel"
   ]
  },
  {
   "cell_type": "code",
   "execution_count": 2,
   "metadata": {},
   "outputs": [],
   "source": [
    "#configuration\n",
    "ds_in = r'p:\\11207941-005-terschelling-model\\terschelling-gw-model\\data\\VCLtijdelijk\\to_share\\head_Hd_2021.nc' #input location of file that needs to be converted\n",
    "ds_out = r'input_DEI_IMOD_output.nc'            #output location of file that can be loaded by D-Eco Impact\n",
    "crs_code = \"epsg:4326\"                           #coordinate system applicable to file\n"
   ]
  },
  {
   "cell_type": "code",
   "execution_count": 3,
   "metadata": {},
   "outputs": [],
   "source": [
    "#test = xr.open_mfdataset(ds_in)\n",
    "#test2 = imod.util.to_ugrid2d(test)\n",
    "#test3 = xu.UgridDataset(test2)\n",
    "#print(test3)"
   ]
  },
  {
   "cell_type": "code",
   "execution_count": 4,
   "metadata": {},
   "outputs": [
    {
     "name": "stdout",
     "output_type": "stream",
     "text": [
      "<xarray.Dataset> Size: 14GB\n",
      "Dimensions:        (mesh2d_nNodes: 282204, time: 364, z: 35,\n",
      "                    mesh2d_nFaces: 281101, mesh2d_nEdges: 563304)\n",
      "Coordinates:\n",
      "    mesh2d_node_x  (mesh2d_nNodes) float64 2MB 1.352e+05 1.353e+05 ... 1.703e+05\n",
      "    mesh2d_node_y  (mesh2d_nNodes) float64 2MB 6.118e+05 6.118e+05 ... 5.917e+05\n",
      "  * time           (time) datetime64[ns] 3kB 2021-01-02 ... 2021-12-31\n",
      "  * z              (z) float64 280B 25.5 20.5 15.5 10.5 ... -100.0 -120.0 -140.0\n",
      "    mesh2d_edge_x  (mesh2d_nEdges) float64 5MB 1.353e+05 1.352e+05 ... 1.703e+05\n",
      "    mesh2d_edge_y  (mesh2d_nEdges) float64 5MB 6.118e+05 6.117e+05 ... 5.917e+05\n",
      "    mesh2d_face_x  (mesh2d_nFaces) float64 2MB 1.353e+05 1.353e+05 ... 1.703e+05\n",
      "    mesh2d_face_y  (mesh2d_nFaces) float64 2MB 6.117e+05 6.117e+05 ... 5.917e+05\n",
      "  * mesh2d_nNodes  (mesh2d_nNodes) int64 2MB 0 1 2 3 ... 282201 282202 282203\n",
      "  * mesh2d_nEdges  (mesh2d_nEdges) int64 5MB 0 1 2 3 ... 563301 563302 563303\n",
      "  * mesh2d_nFaces  (mesh2d_nFaces) int64 2MB 0 1 2 3 ... 281098 281099 281100\n",
      "Data variables:\n",
      "    head           (time, z, mesh2d_nFaces) float32 14GB dask.array<chunksize=(364, 35, 281101), meta=np.ndarray>\n",
      "Attributes:\n",
      "    Conventions:  CF-1.9 UGRID-1.0\n",
      "test\n",
      "<xarray.Dataset> Size: 14GB\n",
      "Dimensions:        (mesh2d_nNodes: 282204, time: 364, z: 35,\n",
      "                    mesh2d_nFaces: 281101, mesh2d_nEdges: 563304)\n",
      "Coordinates:\n",
      "    mesh2d_node_x  (mesh2d_nNodes) float64 2MB 1.352e+05 1.353e+05 ... 1.703e+05\n",
      "    mesh2d_node_y  (mesh2d_nNodes) float64 2MB 6.118e+05 6.118e+05 ... 5.917e+05\n",
      "  * time           (time) datetime64[ns] 3kB 2021-01-02 ... 2021-12-31\n",
      "  * z              (z) float64 280B 25.5 20.5 15.5 10.5 ... -100.0 -120.0 -140.0\n",
      "    mesh2d_edge_x  (mesh2d_nEdges) float64 5MB 1.353e+05 1.352e+05 ... 1.703e+05\n",
      "    mesh2d_edge_y  (mesh2d_nEdges) float64 5MB 6.118e+05 6.117e+05 ... 5.917e+05\n",
      "    mesh2d_face_x  (mesh2d_nFaces) float64 2MB 1.353e+05 1.353e+05 ... 1.703e+05\n",
      "    mesh2d_face_y  (mesh2d_nFaces) float64 2MB 6.117e+05 6.117e+05 ... 5.917e+05\n",
      "  * mesh2d_nNodes  (mesh2d_nNodes) int64 2MB 0 1 2 3 ... 282201 282202 282203\n",
      "  * mesh2d_nEdges  (mesh2d_nEdges) int64 5MB 0 1 2 3 ... 563301 563302 563303\n",
      "  * mesh2d_nFaces  (mesh2d_nFaces) int64 2MB 0 1 2 3 ... 281098 281099 281100\n",
      "Data variables:\n",
      "    head           (time, z, mesh2d_nFaces) float32 14GB dask.array<chunksize=(364, 35, 281101), meta=np.ndarray>\n",
      "Attributes:\n",
      "    Conventions:  CF-1.9 UGRID-1.0\n"
     ]
    },
    {
     "ename": "RuntimeError",
     "evalue": "NetCDF: HDF error",
     "output_type": "error",
     "traceback": [
      "\u001b[1;31m---------------------------------------------------------------------------\u001b[0m",
      "\u001b[1;31mRuntimeError\u001b[0m                              Traceback (most recent call last)",
      "File \u001b[1;32mc:\\_checkouts\\decoimpact_examples\\preprocessing\\../library\\DEcoImpact_conv_func.py:529\u001b[0m, in \u001b[0;36mDEIModel.correct_ugrid_file_for_ecoimpact\u001b[1;34m(self, ds_in, ds_out)\u001b[0m\n\u001b[0;32m    528\u001b[0m \u001b[38;5;66;03m#add the data\u001b[39;00m\n\u001b[1;32m--> 529\u001b[0m \u001b[43mdst\u001b[49m\u001b[43m[\u001b[49m\u001b[43mname\u001b[49m\u001b[43m]\u001b[49m\u001b[43m[\u001b[49m\u001b[43m:\u001b[49m\u001b[43m]\u001b[49m \u001b[38;5;241m=\u001b[39m src[name][:]\n",
      "File \u001b[1;32msrc\\\\netCDF4\\\\_netCDF4.pyx:5519\u001b[0m, in \u001b[0;36mnetCDF4._netCDF4.Variable.__setitem__\u001b[1;34m()\u001b[0m\n",
      "File \u001b[1;32msrc\\\\netCDF4\\\\_netCDF4.pyx:5802\u001b[0m, in \u001b[0;36mnetCDF4._netCDF4.Variable._put\u001b[1;34m()\u001b[0m\n",
      "File \u001b[1;32msrc\\\\netCDF4\\\\_netCDF4.pyx:2034\u001b[0m, in \u001b[0;36mnetCDF4._netCDF4._ensure_nc_success\u001b[1;34m()\u001b[0m\n",
      "\u001b[1;31mRuntimeError\u001b[0m: NetCDF: HDF error",
      "\nDuring handling of the above exception, another exception occurred:\n",
      "\u001b[1;31mRuntimeError\u001b[0m                              Traceback (most recent call last)",
      "Cell \u001b[1;32mIn[4], line 13\u001b[0m\n\u001b[0;32m      9\u001b[0m \u001b[38;5;28mprint\u001b[39m(DEI\u001b[38;5;241m.\u001b[39m_mesh2d)\n\u001b[0;32m     12\u001b[0m \u001b[38;5;66;03m#export result\u001b[39;00m\n\u001b[1;32m---> 13\u001b[0m \u001b[43mDEI\u001b[49m\u001b[38;5;241;43m.\u001b[39;49m\u001b[43mwrite_mesh\u001b[49m\u001b[43m(\u001b[49m\u001b[43mfn_temp\u001b[49m\u001b[43m \u001b[49m\u001b[38;5;241;43m=\u001b[39;49m\u001b[43m \u001b[49m\u001b[38;5;124;43m\"\u001b[39;49m\u001b[38;5;124;43mexample_output_data/temporary_file.nc\u001b[39;49m\u001b[38;5;124;43m\"\u001b[39;49m\u001b[43m,\u001b[49m\u001b[43m \u001b[49m\u001b[43mfn_ecoimpact\u001b[49m\u001b[43m \u001b[49m\u001b[38;5;241;43m=\u001b[39;49m\u001b[43m \u001b[49m\u001b[38;5;124;43m\"\u001b[39;49m\u001b[38;5;124;43mexample_output_data/\u001b[39;49m\u001b[38;5;124;43m\"\u001b[39;49m\u001b[38;5;241;43m+\u001b[39;49m\u001b[43mds_out\u001b[49m\u001b[43m)\u001b[49m\n\u001b[0;32m     15\u001b[0m \u001b[38;5;28mprint\u001b[39m(\u001b[38;5;124m\"\u001b[39m\u001b[38;5;124mDone.\u001b[39m\u001b[38;5;124m\"\u001b[39m)\n",
      "File \u001b[1;32mc:\\_checkouts\\decoimpact_examples\\preprocessing\\../library\\DEcoImpact_conv_func.py:1262\u001b[0m, in \u001b[0;36mwrite_mesh\u001b[1;34m(self, fn_temp, fn_ecoimpact)\u001b[0m\n\u001b[0;32m   1258\u001b[0m ds_in \u001b[38;5;241m=\u001b[39m _fn_temp\n\u001b[0;32m   1259\u001b[0m ds_out \u001b[38;5;241m=\u001b[39m _fn_ecoimpact\n\u001b[0;32m   1260\u001b[0m \u001b[38;5;28mself\u001b[39m\u001b[38;5;241m.\u001b[39mcorrect_ugrid_file_for_ecoimpact(\n\u001b[0;32m   1261\u001b[0m     ds_in \u001b[38;5;241m=\u001b[39m ds_in, \n\u001b[1;32m-> 1262\u001b[0m     ds_out \u001b[38;5;241m=\u001b[39m ds_out)\n\u001b[0;32m   1263\u001b[0m \u001b[38;5;28mself\u001b[39m\u001b[38;5;241m.\u001b[39mlogger\u001b[38;5;241m.\u001b[39mdebug(\u001b[38;5;124mf\u001b[39m\u001b[38;5;124m\"\u001b[39m\u001b[38;5;124mWriting file \u001b[39m\u001b[38;5;132;01m{\u001b[39;00mfn_ecoimpact\u001b[38;5;132;01m}\u001b[39;00m\u001b[38;5;124m\"\u001b[39m)\n",
      "File \u001b[1;32mc:\\_checkouts\\decoimpact_examples\\preprocessing\\../library\\DEcoImpact_conv_func.py:448\u001b[0m, in \u001b[0;36mDEIModel.correct_ugrid_file_for_ecoimpact\u001b[1;34m(self, ds_in, ds_out)\u001b[0m\n\u001b[0;32m    436\u001b[0m \u001b[38;5;250m\u001b[39m\u001b[38;5;124;03m\"\"\"Method to correct XUGRID created NetCDF files to the UGRID standard required\u001b[39;00m\n\u001b[0;32m    437\u001b[0m \u001b[38;5;124;03mby D-EcoImpact.\u001b[39;00m\n\u001b[0;32m    438\u001b[0m \u001b[38;5;124;03mParameters\u001b[39;00m\n\u001b[1;32m   (...)\u001b[0m\n\u001b[0;32m    443\u001b[0m \u001b[38;5;124;03m    Path to write a NetCDF UGRID file corrected for D-EcoImpact\u001b[39;00m\n\u001b[0;32m    444\u001b[0m \u001b[38;5;124;03m\"\"\"\u001b[39;00m\n\u001b[0;32m    445\u001b[0m \u001b[38;5;66;03m#TODO: temporary implementation outside of HYDROMT-core\u001b[39;00m\n\u001b[0;32m    446\u001b[0m \n\u001b[0;32m    447\u001b[0m \u001b[38;5;66;03m#add metadata\u001b[39;00m\n\u001b[1;32m--> 448\u001b[0m \u001b[38;5;28;01mwith\u001b[39;00m nc\u001b[38;5;241m.\u001b[39mDataset(ds_in) \u001b[38;5;28;01mas\u001b[39;00m src, nc\u001b[38;5;241m.\u001b[39mDataset(ds_out, \u001b[38;5;124m\"\u001b[39m\u001b[38;5;124mw\u001b[39m\u001b[38;5;124m\"\u001b[39m) \u001b[38;5;28;01mas\u001b[39;00m dst:\n\u001b[0;32m    449\u001b[0m     \u001b[38;5;66;03m# copy global attributes all at once via dictionary\u001b[39;00m\n\u001b[0;32m    450\u001b[0m     dst\u001b[38;5;241m.\u001b[39msetncatts(src\u001b[38;5;241m.\u001b[39m\u001b[38;5;18m__dict__\u001b[39m)\n\u001b[0;32m    451\u001b[0m     \u001b[38;5;66;03m# copy dimensions\u001b[39;00m\n",
      "File \u001b[1;32msrc\\\\netCDF4\\\\_netCDF4.pyx:2503\u001b[0m, in \u001b[0;36mnetCDF4._netCDF4.Dataset.__exit__\u001b[1;34m()\u001b[0m\n",
      "File \u001b[1;32msrc\\\\netCDF4\\\\_netCDF4.pyx:2627\u001b[0m, in \u001b[0;36mnetCDF4._netCDF4.Dataset.close\u001b[1;34m()\u001b[0m\n",
      "File \u001b[1;32msrc\\\\netCDF4\\\\_netCDF4.pyx:2590\u001b[0m, in \u001b[0;36mnetCDF4._netCDF4.Dataset._close\u001b[1;34m()\u001b[0m\n",
      "File \u001b[1;32msrc\\\\netCDF4\\\\_netCDF4.pyx:2034\u001b[0m, in \u001b[0;36mnetCDF4._netCDF4._ensure_nc_success\u001b[1;34m()\u001b[0m\n",
      "\u001b[1;31mRuntimeError\u001b[0m: NetCDF: HDF error"
     ]
    }
   ],
   "source": [
    "#initialize\n",
    "DEI = DEIModel()\n",
    "cwd = os.getcwd()\n",
    "DEI.set_root(root = cwd)\n",
    "\n",
    "#read Netcdf\n",
    "region_dict = {\"imod\": ds_in}\n",
    "DEI.setup_ugrid(region = region_dict, crs = crs_code)\n",
    "print(DEI._mesh2d)\n",
    "\n",
    "\n",
    "#export result\n",
    "DEI.write_mesh(fn_temp = \"example_output_data/temporary_file.nc\", fn_ecoimpact = \"example_output_data/\"+ds_out)\n",
    "\n",
    "print(\"Done.\")"
   ]
  },
  {
   "cell_type": "code",
   "execution_count": null,
   "metadata": {},
   "outputs": [],
   "source": [
    "#visualize results\n",
    "with xu.open_mfdataset(\"example_output_data/\"+ds_out) as result:\n",
    "    result[\"head\"].sel(time= \"2021-01-01 00:00:00\" ).ugrid.plot()"
   ]
  }
 ],
 "metadata": {
  "kernelspec": {
   "display_name": "HDFPython",
   "language": "python",
   "name": "python3"
  },
  "language_info": {
   "codemirror_mode": {
    "name": "ipython",
    "version": 3
   },
   "file_extension": ".py",
   "mimetype": "text/x-python",
   "name": "python",
   "nbconvert_exporter": "python",
   "pygments_lexer": "ipython3",
   "version": "3.10.0"
  }
 },
 "nbformat": 4,
 "nbformat_minor": 2
}
