{
 "cells": [
  {
   "cell_type": "code",
   "execution_count": 7,
   "metadata": {},
   "outputs": [],
   "source": [
    "import xarray as xr\n",
    "import pandas as pd\n",
    "import numpy as np\n",
    "from itertools import compress"
   ]
  },
  {
   "cell_type": "code",
   "execution_count": 8,
   "metadata": {},
   "outputs": [
    {
     "name": "stdout",
     "output_type": "stream",
     "text": [
      "<xarray.Dataset> Size: 2GB\n",
      "Dimensions:        (MC: 407, NC: 29, M: 407, N: 29, LSTSCI: 2, SIG_LYR: 1,\n",
      "                    SIG_INTF: 2, KMAXOUT: 2, KMAXOUT_RESTR: 1, time: 1276,\n",
      "                    LSED: 1, KMAX: 1, LSEDTOT: 1, nlyr: 1, nlyrp1: 2, avgtime: 1)\n",
      "Coordinates:\n",
      "    XZ             (M, N) float64 94kB ...\n",
      "    YZ             (M, N) float64 94kB ...\n",
      "  * SIG_LYR        (SIG_LYR) float32 4B -0.5\n",
      "  * SIG_INTF       (SIG_INTF) float32 8B 0.0 -1.0\n",
      "  * KMAXOUT        (KMAXOUT) int32 8B 0 1\n",
      "  * KMAXOUT_RESTR  (KMAXOUT_RESTR) int32 4B 0\n",
      "  * time           (time) datetime64[ns] 10kB 2020-05-01T01:00:00 ... 2020-10...\n",
      "Dimensions without coordinates: MC, NC, M, N, LSTSCI, LSED, KMAX, LSEDTOT,\n",
      "                                nlyr, nlyrp1, avgtime\n",
      "Data variables: (12/48)\n",
      "    XCOR           (MC, NC) float64 94kB ...\n",
      "    YCOR           (MC, NC) float64 94kB ...\n",
      "    ALFAS          (M, N) float32 47kB ...\n",
      "    KCU            (MC, N) int32 47kB ...\n",
      "    KCV            (M, NC) int32 47kB ...\n",
      "    KCS            (M, N) int32 47kB ...\n",
      "    ...             ...\n",
      "    MFTAVG         (avgtime) timedelta64[ns] 8B ...\n",
      "    MORAVG         (avgtime) float32 4B ...\n",
      "    SBUUA          (avgtime, LSEDTOT, MC, N) float32 47kB ...\n",
      "    SBVVA          (avgtime, LSEDTOT, M, NC) float32 47kB ...\n",
      "    SSUUA          (avgtime, LSED, MC, N) float32 47kB ...\n",
      "    SSVVA          (avgtime, LSED, M, NC) float32 47kB ...\n",
      "Attributes:\n",
      "    Conventions:  CF-1.6 SGRID-0.3\n",
      "    institution:  Deltares\n",
      "    references:   www.deltares.nl\n",
      "    source:       Deltares, FLOW2D3D Version 6.03.00.62434, Oct 24 2018, 14:5...\n",
      "    history:      This file is created on 2024-03-18T17:46:56+0100, Delft3D\n",
      "    LAYER_MODEL:  SIGMA-MODEL\n"
     ]
    }
   ],
   "source": [
    "#load data with xarray\n",
    "file_path = r\"d:\\klein\\DELFT3D4_model_converter\\_Delft3D4_input_data\\trim-Model-k01-with topography-eco.nc\"\n",
    "xr_file = xr.open_dataset(file_path)\n",
    "print(xr_file)"
   ]
  },
  {
   "cell_type": "code",
   "execution_count": 9,
   "metadata": {},
   "outputs": [],
   "source": [
    "#Drop and re-add variables that are challenging for writing with xarray\n",
    "\n",
    "mftavg = xr_file.MFTAVG.copy()\n",
    "moravg = xr_file.MORAVG.copy()\n",
    "grid = xr_file.grid.copy()\n",
    "\n",
    "#drop some variables that might be challenging for writing\n",
    "xr_file = xr_file.drop_vars([\"MFTAVG\",\"MORAVG\"]) #\"NAMCON\",\"GRAVITY\",\n",
    "\n",
    "#drop grid\n",
    "#xr_file = xr_file.drop_vars([\"grid\"])"
   ]
  },
  {
   "cell_type": "code",
   "execution_count": 10,
   "metadata": {},
   "outputs": [
    {
     "name": "stdout",
     "output_type": "stream",
     "text": [
      "<xarray.Dataset> Size: 4MB\n",
      "Dimensions:        (MC: 81, NC: 28, M: 81, N: 28, LSTSCI: 2, SIG_LYR: 1,\n",
      "                    SIG_INTF: 2, KMAXOUT: 2, KMAXOUT_RESTR: 1, time: 16,\n",
      "                    LSED: 1, KMAX: 1, LSEDTOT: 1, nlyr: 1, nlyrp1: 2, avgtime: 1)\n",
      "Coordinates:\n",
      "    XZ             (M, N) float64 18kB ...\n",
      "    YZ             (M, N) float64 18kB ...\n",
      "  * SIG_LYR        (SIG_LYR) float32 4B -0.5\n",
      "  * SIG_INTF       (SIG_INTF) float32 8B 0.0 -1.0\n",
      "  * KMAXOUT        (KMAXOUT) int32 8B 0 1\n",
      "  * KMAXOUT_RESTR  (KMAXOUT_RESTR) int32 4B 0\n",
      "  * time           (time) datetime64[ns] 128B 2020-05-03T01:00:00 ... 2020-05...\n",
      "Dimensions without coordinates: MC, NC, M, N, LSTSCI, LSED, KMAX, LSEDTOT,\n",
      "                                nlyr, nlyrp1, avgtime\n",
      "Data variables: (12/46)\n",
      "    XCOR           (MC, NC) float64 18kB 135.8 135.8 135.8 ... 135.8 135.8 135.8\n",
      "    YCOR           (MC, NC) float64 18kB 34.8 34.8 34.8 ... 34.81 34.81 34.81\n",
      "    ALFAS          (M, N) float32 9kB ...\n",
      "    KCU            (MC, N) int32 9kB ...\n",
      "    KCV            (M, NC) int32 9kB ...\n",
      "    KCS            (M, N) int32 9kB ...\n",
      "    ...             ...\n",
      "    LYRFRAC        (time, LSEDTOT, nlyr, M, N) float32 145kB ...\n",
      "    DP_BEDLYR      (time, nlyrp1, M, N) float32 290kB ...\n",
      "    SBUUA          (avgtime, LSEDTOT, MC, N) float32 9kB ...\n",
      "    SBVVA          (avgtime, LSEDTOT, M, NC) float32 9kB ...\n",
      "    SSUUA          (avgtime, LSED, MC, N) float32 9kB ...\n",
      "    SSVVA          (avgtime, LSED, M, NC) float32 9kB ...\n",
      "Attributes:\n",
      "    Conventions:  CF-1.6 SGRID-0.3\n",
      "    institution:  Deltares\n",
      "    references:   www.deltares.nl\n",
      "    source:       Deltares, FLOW2D3D Version 6.03.00.62434, Oct 24 2018, 14:5...\n",
      "    history:      This file is created on 2024-03-18T17:46:56+0100, Delft3D\n",
      "    LAYER_MODEL:  SIGMA-MODEL\n"
     ]
    }
   ],
   "source": [
    "#Subset on time and area to reduce size\n",
    "\n",
    "def row_in_list(row, check_set):\n",
    "    '''\n",
    "    Function to asses if all values of row are in list, ignoring nan's\n",
    "    '''\n",
    "    row_non_nan = row.dropna().tolist()\n",
    "    return all(item in check_set for item in row_non_nan)\n",
    "\n",
    "#Subset on time to reduce size\n",
    "sub_file = xr_file.sel(time = slice('2020-05-03','2020-05-04'))\n",
    "time_attrs = sub_file[\"time\"].attrs\n",
    "#time_attrs[\"_FillValue\"] = False\n",
    "sub_file[\"time\"] = sub_file[\"time\"].assign_attrs(time_attrs)\n",
    "\n",
    "\n",
    "#Subset on bounding box\n",
    "bool_nodes_needed = (sub_file['YCOR'] >= 34.805) & (sub_file['YCOR'] <= 34.81) &\\\n",
    "    (sub_file['XCOR'] >= 135.79)  & (sub_file['XCOR'] <= 135.81)\n",
    "#index_nodes_needed = [i for i, x in enumerate(bool_nodes_needed) if x]\n",
    "df_bool_nodes_needed = pd.DataFrame(bool_nodes_needed)\n",
    "bool_nodes_needed_M = df_bool_nodes_needed.any(axis = 1)\n",
    "bool_nodes_needed_N = df_bool_nodes_needed.any(axis = 0)\n",
    "M_nodes_needed = set(list(compress(range(len(bool_nodes_needed_M)), bool_nodes_needed_M)))\n",
    "N_nodes_needed = set(list(compress(range(len(bool_nodes_needed_N)), bool_nodes_needed_N)))\n",
    "\n",
    "#filter on M from dataset data\n",
    "sub_file = sub_file.sel(M = xr_file.M.isin(list(M_nodes_needed)), MC = xr_file.MC.isin(list(M_nodes_needed)),\n",
    "                        N = xr_file.N.isin(list(N_nodes_needed)), NC = xr_file.NC.isin(list(N_nodes_needed)),\n",
    "        )\n",
    "\n",
    "#filter on N from dataset data\n",
    "sub_file = sub_file.sel()\n",
    "\n",
    "#Check\n",
    "print(sub_file)"
   ]
  },
  {
   "cell_type": "code",
   "execution_count": 11,
   "metadata": {},
   "outputs": [],
   "source": [
    "#re-add morphology and grid\n",
    "#sub_file[\"MFTAVG\"] = mftavg\n",
    "sub_file[\"MORAVG\"] = moravg\n",
    "sub_file[\"grid\"] = grid"
   ]
  },
  {
   "cell_type": "code",
   "execution_count": 12,
   "metadata": {},
   "outputs": [],
   "source": [
    "#write to file example\n",
    "sub_file.to_netcdf(\"rawdata/delft3d4flow_output_example.nc\")"
   ]
  }
 ],
 "metadata": {
  "kernelspec": {
   "display_name": "HDFPython",
   "language": "python",
   "name": "python3"
  },
  "language_info": {
   "codemirror_mode": {
    "name": "ipython",
    "version": 3
   },
   "file_extension": ".py",
   "mimetype": "text/x-python",
   "name": "python",
   "nbconvert_exporter": "python",
   "pygments_lexer": "ipython3",
   "version": "3.10.0"
  }
 },
 "nbformat": 4,
 "nbformat_minor": 2
}
