{
 "cells": [
  {
   "cell_type": "code",
   "execution_count": 1,
   "metadata": {},
   "outputs": [],
   "source": [
    "import xarray as xr\n",
    "\n",
    "\n"
   ]
  },
  {
   "cell_type": "code",
   "execution_count": 2,
   "metadata": {},
   "outputs": [
    {
     "name": "stdout",
     "output_type": "stream",
     "text": [
      "<xarray.Dataset> Size: 360MB\n",
      "Dimensions:      (lon: 96, lat: 183, layer: 4, time: 731)\n",
      "Coordinates:\n",
      "  * lon          (lon) float64 768B 137.6 137.6 137.6 ... 138.4 138.4 138.4\n",
      "  * lat          (lat) float64 1kB 34.65 34.65 34.66 34.67 ... 36.15 36.15 36.16\n",
      "  * layer        (layer) float64 32B 1.0 2.0 3.0 4.0\n",
      "  * time         (time) datetime64[ns] 6kB 2008-09-01 2008-09-02 ... 2010-09-01\n",
      "Data variables:\n",
      "    int          (time, lat, lon) float32 51MB ...\n",
      "    river_width  (time, lat, lon) float32 51MB ...\n",
      "    q_land       (time, lat, lon) float32 51MB ...\n",
      "    q_river      (time, lat, lon) float32 51MB ...\n",
      "    water_depth  (time, lat, lon) float32 51MB ...\n",
      "    h_land       (time, lat, lon) float32 51MB ...\n",
      "    precip       (time, lat, lon) float32 51MB ...\n"
     ]
    }
   ],
   "source": [
    "#load data with xarray\n",
    "file_path = r\"d:\\klein\\WFLOW_conv_to_Ugrid_Netcdf\\output.nc\"\n",
    "xr_file = xr.open_dataset(file_path)\n",
    "print(xr_file)"
   ]
  },
  {
   "cell_type": "code",
   "execution_count": 8,
   "metadata": {},
   "outputs": [],
   "source": [
    "#Subset on time and faces to reduce size\n",
    "sub_file = xr_file.sel(\n",
    "    time=slice('2008-09-01','2008-09-05'),\n",
    "    drop=True)\n",
    "time_attrs = sub_file[\"time\"].attrs\n",
    "time_attrs[\"_FillValue\"] = False\n",
    "sub_file[\"time\"] = sub_file[\"time\"].assign_attrs(time_attrs)"
   ]
  },
  {
   "cell_type": "code",
   "execution_count": 4,
   "metadata": {},
   "outputs": [],
   "source": [
    "#Subset on variables to reduce size"
   ]
  },
  {
   "cell_type": "code",
   "execution_count": 9,
   "metadata": {},
   "outputs": [],
   "source": [
    "#write to file example\n",
    "sub_file.to_netcdf(\"rawdata/wflow_output_example.nc\")"
   ]
  }
 ],
 "metadata": {
  "kernelspec": {
   "display_name": "HDFPython",
   "language": "python",
   "name": "python3"
  },
  "language_info": {
   "codemirror_mode": {
    "name": "ipython",
    "version": 3
   },
   "file_extension": ".py",
   "mimetype": "text/x-python",
   "name": "python",
   "nbconvert_exporter": "python",
   "pygments_lexer": "ipython3",
   "version": "3.10.0"
  }
 },
 "nbformat": 4,
 "nbformat_minor": 2
}
