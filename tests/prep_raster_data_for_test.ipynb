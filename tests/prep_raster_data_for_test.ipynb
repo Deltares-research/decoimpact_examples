{
 "cells": [
  {
   "cell_type": "code",
   "execution_count": 17,
   "metadata": {},
   "outputs": [],
   "source": [
    "#Read raster file, wrap to smaller resolution and write to file\n",
    "import os\n",
    "import rasterio as rio\n",
    "from rasterio.mask import mask\n",
    "from shapely.geometry import box\n",
    "\n",
    "#for plotting\n",
    "import matplotlib.pyplot as plt\n",
    "import contextily as ctx"
   ]
  },
  {
   "cell_type": "code",
   "execution_count": null,
   "metadata": {},
   "outputs": [],
   "source": [
    "#list raster input paths\n",
    "input_folder = \"d:\\\\klein\\\\KRW-verkenner 2.0\\\\example_markermeer\\\\1_input_tiff\\\\\"\n",
    "output_folder = \"d:\\\\_checkouts\\\\decoimpact_examples\\\\tests\\\\rawdata\\\\lakemarken_rasters\\\\\"\n",
    "raster_names = [\n",
    "    \"watertemperaturesummer_celsius_watercolumn.tif\",\n",
    "    \"waterdepthsummer_meter_watercolumn.tif\",\n",
    "    \"substrate_class_waterbed.tif\",\n",
    "    \"subareas_coefficient_markermeer.tif\",\n",
    "    \"silt_fraction_waterbed.tif\",\n",
    "    \"shellsubstrate_fraction_waterbed.tif\",\n",
    "    \"oxygen_saturation_watercolumn.tif\",\n",
    "    \"orthophosphate_concentration_watercolumn.tif\",\n",
    "    \"inorganicsuspendedsolids_concentration_watercolumn.tif\",\n",
    "    \"chlorophylla_concentration_watercolumn.tif\"\n",
    "    ]\n",
    "\n",
    "raster_paths = dict(zip(\n",
    "    [os.path.join(input_folder, rst_name) for rst_name in raster_names],\n",
    "    [os.path.join(output_folder, rst_name) for rst_name in raster_names],\n",
    "    ))"
   ]
  },
  {
   "cell_type": "code",
   "execution_count": 23,
   "metadata": {},
   "outputs": [
    {
     "name": "stdout",
     "output_type": "stream",
     "text": [
      "output_written : d:\\_checkouts\\decoimpact_examples\\tests\\rawdata\\watertemperaturesummer_celsius_watercolumn.tif\n",
      "output_written : d:\\_checkouts\\decoimpact_examples\\tests\\rawdata\\waterdepthsummer_meter_watercolumn.tif\n",
      "output_written : d:\\_checkouts\\decoimpact_examples\\tests\\rawdata\\substrate_class_waterbed.tif\n",
      "output_written : d:\\_checkouts\\decoimpact_examples\\tests\\rawdata\\subareas_coefficient_markermeer.tif\n",
      "output_written : d:\\_checkouts\\decoimpact_examples\\tests\\rawdata\\silt_fraction_waterbed.tif\n",
      "output_written : d:\\_checkouts\\decoimpact_examples\\tests\\rawdata\\shellsubstrate_fraction_waterbed.tif\n",
      "output_written : d:\\_checkouts\\decoimpact_examples\\tests\\rawdata\\oxygen_saturation_watercolumn.tif\n",
      "output_written : d:\\_checkouts\\decoimpact_examples\\tests\\rawdata\\orthophosphate_concentration_watercolumn.tif\n",
      "output_written : d:\\_checkouts\\decoimpact_examples\\tests\\rawdata\\inorganicsuspendedsolids_concentration_watercolumn.tif\n",
      "output_written : d:\\_checkouts\\decoimpact_examples\\tests\\rawdata\\chlorophylla_concentration_watercolumn.tif\n"
     ]
    }
   ],
   "source": [
    "#Read raster file, wrap to smaller resolution and write to file\n",
    "xres=250\n",
    "yres=250\n",
    "resample_alg = rio.enums.Resampling.nearest\n",
    "crs = rio.crs.CRS.from_string(\"EPSG:28992\") #RDNEW\n",
    "\n",
    "for raster_in_path in raster_paths.keys():\n",
    "    with rio.open(raster_in_path) as src:\n",
    "        data, transform = rio.warp.reproject(source=src.read(),\n",
    "                src_transform=src.transform,\n",
    "                src_crs=crs,\n",
    "                dst_crs=crs,\n",
    "                dst_nodata=src.nodata,\n",
    "                dst_resolution= (xres,yres),\n",
    "                resampling=resample_alg)\n",
    "     \n",
    "        profile = src.profile\n",
    "        profile.update(transform=transform, driver='GTiff',\n",
    "                        height=data.shape[1], width=data.shape[2])\n",
    "\n",
    "        with rio.open(raster_paths[raster_in_path], 'w', **profile) as dst:\n",
    "                dst.write(data)\n",
    "    \n",
    "    print(\"output_written : \"+ raster_paths[raster_in_path])"
   ]
  },
  {
   "cell_type": "code",
   "execution_count": 32,
   "metadata": {},
   "outputs": [
    {
     "data": {
      "text/plain": [
       "[]"
      ]
     },
     "execution_count": 32,
     "metadata": {},
     "output_type": "execute_result"
    },
    {
     "data": {
      "image/png": "[encoded data removed]",
      "text/plain": [
       "<Figure size 640x480 with 1 Axes>"
      ]
     },
     "metadata": {},
     "output_type": "display_data"
    }
   ],
   "source": [
    "#plot the last result\n",
    "raster = rio.open(raster_paths[raster_in_path])\n",
    "data = raster.read()\n",
    "\n",
    "plt.imshow(data[0])\n",
    "plt.plot()"
   ]
  },
  {
   "cell_type": "code",
   "execution_count": null,
   "metadata": {},
   "outputs": [
    {
     "name": "stdout",
     "output_type": "stream",
     "text": [
      "output_written : d:\\_checkouts\\decoimpact_examples\\tests\\rawdata\\lakevolkerak_rasters\\bathymetry_VolkerakZoommeer_25x25m.tif\n"
     ]
    }
   ],
   "source": [
    "#make cutout of bathymetry Lake Volkerak-Zoom\n",
    "input_bathymetry_raster_path = \"p:\\\\11202493--systeemrap-grevelingen\\\\1_data\\\\\"+\\\n",
    "                         \"Volkerak\\BaselineBathymetry\\Bodemligging_VolkerakZoommeer_25x25m.tif\"\n",
    "output_bathymetry_raster_path = \"d:\\\\_checkouts\\\\decoimpact_examples\\\\tests\\\\rawdata\\\\lakevolkerak_rasters\\\\bathymetry_VolkerakZoommeer_25x25m.tif\"\n",
    "boundingbox = ((75000, 76000),(405300, 406100)) #RDNEW\n",
    "crs = rio.crs.CRS.from_string(\"EPSG:28992\") #RDNEW\n",
    "\n",
    "with rio.open(input_bathymetry_raster_path,'r') as src:\n",
    "    box_coor = rio.warp.transform_bounds(\n",
    "        src_crs = crs,\n",
    "        dst_crs = crs, \n",
    "        left = boundingbox[0][0], \n",
    "        bottom = boundingbox[1][0],\n",
    "        right = boundingbox[0][1],\n",
    "        top = boundingbox[1][1]\n",
    "        )\n",
    "    geom_box = [box(box_coor[0], box_coor[1], box_coor[2], box_coor[3])]\n",
    "    out_image, out_transform = mask(src, geom_box, crop=True)\n",
    "    out_meta = src.meta.copy()\n",
    "    \n",
    "    out_meta.update({\n",
    "        \"driver\": \"GTiff\",\n",
    "        \"height\": out_image.shape[1],\n",
    "        \"width\": out_image.shape[2],\n",
    "        \"transform\": out_transform\n",
    "    })\n",
    "\n",
    "    with rio.open(output_bathymetry_raster_path, \"w\", **out_meta) as dest:\n",
    "        dest.write(out_image)\n",
    "            \n",
    "    print(\"output_written : \"+ output_bathymetry_raster_path)"
   ]
  }
 ],
 "metadata": {
  "kernelspec": {
   "display_name": "HDFPython",
   "language": "python",
   "name": "python3"
  },
  "language_info": {
   "codemirror_mode": {
    "name": "ipython",
    "version": 3
   },
   "file_extension": ".py",
   "mimetype": "text/x-python",
   "name": "python",
   "nbconvert_exporter": "python",
   "pygments_lexer": "ipython3",
   "version": "3.10.0"
  }
 },
 "nbformat": 4,
 "nbformat_minor": 2
}
